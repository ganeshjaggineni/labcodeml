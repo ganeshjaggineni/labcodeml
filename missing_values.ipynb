{
 "cells": [
  {
   "cell_type": "markdown",
   "id": "3e367759",
   "metadata": {},
   "source": [
    "# IMPORTING LIBRARIES"
   ]
  },
  {
   "cell_type": "code",
   "execution_count": 1,
   "id": "dd005a57",
   "metadata": {},
   "outputs": [],
   "source": [
    "import numpy as np\n",
    "import pandas as pd\n",
    "import matplotlib.pyplot as plt"
   ]
  },
  {
   "cell_type": "code",
   "execution_count": 5,
   "id": "0e58e266",
   "metadata": {},
   "outputs": [
    {
     "name": "stdout",
     "output_type": "stream",
     "text": [
      "   Gender   Salary    Country  Company\n",
      "0    Male  15000.0      India   Google\n",
      "1  Female  45000.0      China      NaN\n",
      "2  Female  25000.0      India   Google\n",
      "3     NaN      NaN  Australia   Google\n",
      "4    Male      NaN      India   Google\n",
      "5    Male  54000.0        NaN  Alibaba\n",
      "6     NaN  74000.0      China      NaN\n",
      "7    Male  14000.0  Australia      NaN\n",
      "8  Female  15000.0        NaN      NaN\n",
      "9    Male  33000.0  Australia      NaN\n"
     ]
    }
   ],
   "source": [
    "data=pd.read_excel(\"meanmodemedian.xlsx\")\n",
    "print(data)"
   ]
  },
  {
   "cell_type": "code",
   "execution_count": null,
   "id": "a12e40d4",
   "metadata": {},
   "outputs": [],
   "source": [
    "# Create a DataFrame\n",
    "# data = pd.DataFrame({\n",
    "#     'Gender': ['Male', 'Female', 'Female', None, 'Male', 'Male', None, 'Male', 'Female', 'Male'],\n",
    "#     'Salary': [15000.0, 45000.0, 25000.0, None, None, 54000.0, 74000.0, 14000.0, 15000.0, 33000.0],\n",
    "#     'Country': ['India', 'China', 'India', 'Australia', 'India', None, 'China', 'Australia', None, 'Australia'],\n",
    "#     'Company': ['Google', None, 'Google', 'Google', 'Google', 'Alibaba', None, None, None, None]\n",
    "# })"
   ]
  },
  {
   "cell_type": "markdown",
   "id": "b959df0e",
   "metadata": {},
   "source": [
    "# MEDIAN USING FILLNA"
   ]
  },
  {
   "cell_type": "code",
   "execution_count": 21,
   "id": "0a800ba2",
   "metadata": {},
   "outputs": [
    {
     "name": "stdout",
     "output_type": "stream",
     "text": [
      "29000.0\n",
      "   Gender   Salary    Country  Company\n",
      "0    Male  15000.0      India   Google\n",
      "1  Female  45000.0      China      NaN\n",
      "2  Female  25000.0      India   Google\n",
      "3     NaN  29000.0  Australia   Google\n",
      "4    Male  29000.0      India   Google\n",
      "5    Male  54000.0        NaN  Alibaba\n",
      "6     NaN  74000.0      China      NaN\n",
      "7    Male  14000.0  Australia      NaN\n",
      "8  Female  15000.0        NaN      NaN\n",
      "9    Male  33000.0  Australia      NaN\n"
     ]
    }
   ],
   "source": [
    "median_sal = data['Salary'].median()\n",
    "print(median_sal)\n",
    "data['Salary'].fillna(median_sal,inplace=True)\n",
    "print(data)"
   ]
  },
  {
   "cell_type": "markdown",
   "id": "f1716d06",
   "metadata": {},
   "source": [
    "# MEAN USING FILLNA"
   ]
  },
  {
   "cell_type": "code",
   "execution_count": 24,
   "id": "39393241",
   "metadata": {},
   "outputs": [
    {
     "name": "stdout",
     "output_type": "stream",
     "text": [
      "33300.0\n",
      "   Gender   Salary    Country  Company\n",
      "0    Male  15000.0      India   Google\n",
      "1  Female  45000.0      China      NaN\n",
      "2  Female  25000.0      India   Google\n",
      "3     NaN  29000.0  Australia   Google\n",
      "4    Male  29000.0      India   Google\n",
      "5    Male  54000.0        NaN  Alibaba\n",
      "6     NaN  74000.0      China      NaN\n",
      "7    Male  14000.0  Australia      NaN\n",
      "8  Female  15000.0        NaN      NaN\n",
      "9    Male  33000.0  Australia      NaN\n"
     ]
    }
   ],
   "source": [
    "mean_sal = data['Salary'].mean()\n",
    "print(mean_sal)\n",
    "data['Salary'].fillna(mean_sal,inplace=True)\n",
    "print(data)"
   ]
  },
  {
   "cell_type": "markdown",
   "id": "733fdc7a",
   "metadata": {},
   "source": [
    "# MODE USING FILLNA"
   ]
  },
  {
   "cell_type": "code",
   "execution_count": 30,
   "id": "d8e516fc",
   "metadata": {},
   "outputs": [
    {
     "name": "stdout",
     "output_type": "stream",
     "text": [
      "Australia\n",
      "   Gender   Salary    Country  Company\n",
      "0    Male  15000.0      India   Google\n",
      "1  Female  45000.0      China      NaN\n",
      "2  Female  25000.0      India   Google\n",
      "3     NaN  29000.0  Australia   Google\n",
      "4    Male  29000.0      India   Google\n",
      "5    Male  54000.0  Australia  Alibaba\n",
      "6     NaN  74000.0      China      NaN\n",
      "7    Male  14000.0  Australia      NaN\n",
      "8  Female  15000.0  Australia      NaN\n",
      "9    Male  33000.0  Australia      NaN\n"
     ]
    }
   ],
   "source": [
    "mode_country =data['Country'].mode()[0]\n",
    "print(mode_country)\n",
    "data['Country'].fillna(mode_country,inplace=True)\n",
    "print(data)"
   ]
  },
  {
   "cell_type": "markdown",
   "id": "25b3f0f2",
   "metadata": {},
   "source": []
  },
  {
   "cell_type": "code",
   "execution_count": null,
   "id": "6599e530",
   "metadata": {},
   "outputs": [],
   "source": []
  },
  {
   "cell_type": "markdown",
   "id": "2d1f05c5",
   "metadata": {},
   "source": []
  },
  {
   "cell_type": "code",
   "execution_count": 83,
   "id": "6f2992bd",
   "metadata": {},
   "outputs": [
    {
     "name": "stdout",
     "output_type": "stream",
     "text": [
      "Male\n",
      "   Gender                            Salary    Country  Company\n",
      "0    Male  SimpleImputer(strategy='median')      India   Google\n",
      "1  Female  SimpleImputer(strategy='median')      China      NaN\n",
      "2  Female  SimpleImputer(strategy='median')      India   Google\n",
      "3    Male  SimpleImputer(strategy='median')  Australia   Google\n",
      "4    Male  SimpleImputer(strategy='median')      India   Google\n",
      "5    Male  SimpleImputer(strategy='median')  Australia  Alibaba\n",
      "6    Male  SimpleImputer(strategy='median')      China      NaN\n",
      "7    Male  SimpleImputer(strategy='median')  Australia      NaN\n",
      "8  Female  SimpleImputer(strategy='median')  Australia      NaN\n",
      "9    Male  SimpleImputer(strategy='median')  Australia      NaN\n"
     ]
    }
   ],
   "source": [
    "mode_gender = data['Gender'].mode()[0]\n",
    "print(mode_gender)\n",
    "data['Gender'].fillna(mode_gender,inplace=True)\n",
    "print(data)"
   ]
  },
  {
   "cell_type": "code",
   "execution_count": null,
   "id": "e217c64f",
   "metadata": {},
   "outputs": [],
   "source": []
  }
 ],
 "metadata": {
  "kernelspec": {
   "display_name": "Python 3 (ipykernel)",
   "language": "python",
   "name": "python3"
  },
  "language_info": {
   "codemirror_mode": {
    "name": "ipython",
    "version": 3
   },
   "file_extension": ".py",
   "mimetype": "text/x-python",
   "name": "python",
   "nbconvert_exporter": "python",
   "pygments_lexer": "ipython3",
   "version": "3.11.5"
  }
 },
 "nbformat": 4,
 "nbformat_minor": 5
}
