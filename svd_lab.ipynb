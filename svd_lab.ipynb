{
 "cells": [
  {
   "cell_type": "code",
   "execution_count": 40,
   "id": "0c7e37e4",
   "metadata": {},
   "outputs": [],
   "source": [
    "import numpy as np\n",
    "from numpy.linalg import eigh,norm"
   ]
  },
  {
   "cell_type": "code",
   "execution_count": 26,
   "id": "03fc4fc8",
   "metadata": {},
   "outputs": [
    {
     "name": "stdout",
     "output_type": "stream",
     "text": [
      "[[ 2  0  0]\n",
      " [ 2  1  0]\n",
      " [ 0 -2  0]]\n",
      "(3, 3)\n"
     ]
    }
   ],
   "source": [
    "A = np.array([[2,0,0],\n",
    "            [2,1,0],\n",
    "            [0,-2,0]])\n",
    "print(A)\n",
    "print(A.shape)"
   ]
  },
  {
   "cell_type": "code",
   "execution_count": 5,
   "id": "03779d6b",
   "metadata": {},
   "outputs": [
    {
     "name": "stdout",
     "output_type": "stream",
     "text": [
      "[[8 2 0]\n",
      " [2 5 0]\n",
      " [0 0 0]]\n"
     ]
    }
   ],
   "source": [
    "ATA = A.T.dot(A)\n",
    "print(ATA)"
   ]
  },
  {
   "cell_type": "markdown",
   "id": "23a07215",
   "metadata": {},
   "source": [
    "# EIGEN VALUES CALCULATION"
   ]
  },
  {
   "cell_type": "code",
   "execution_count": 28,
   "id": "13ae3139",
   "metadata": {},
   "outputs": [
    {
     "name": "stdout",
     "output_type": "stream",
     "text": [
      "[0. 4. 9.]\n"
     ]
    }
   ],
   "source": [
    "eigen_values,eigen_vectors =eigh(ATA)\n",
    "print(eigen_values)\n"
   ]
  },
  {
   "cell_type": "markdown",
   "id": "d37bf1cf",
   "metadata": {},
   "source": [
    "# SORTING THE EIGEN VALUES"
   ]
  },
  {
   "cell_type": "code",
   "execution_count": 17,
   "id": "993c40da",
   "metadata": {},
   "outputs": [
    {
     "name": "stdout",
     "output_type": "stream",
     "text": [
      "[0 1 2]\n",
      "[9. 4. 0.]\n",
      "[[ 0.          0.4472136  -0.89442719]\n",
      " [ 0.         -0.89442719 -0.4472136 ]\n",
      " [ 1.          0.         -0.        ]]\n"
     ]
    }
   ],
   "source": [
    "sorted_indices=np.argsort(eigen_values)[::-1]\n",
    "print(sorted_indices)\n",
    "eigen_values=eigen_values[sorted_indices]\n",
    "print(eigen_values)\n",
    "eigen_vecotrs=eigen_vectors[:,sorted_indices]\n",
    "print(eigen_vecotrs)"
   ]
  },
  {
   "cell_type": "markdown",
   "id": "8444e124",
   "metadata": {},
   "source": [
    "# SINGULAR VALUES"
   ]
  },
  {
   "cell_type": "code",
   "execution_count": 19,
   "id": "299e3c32",
   "metadata": {},
   "outputs": [
    {
     "name": "stdout",
     "output_type": "stream",
     "text": [
      "[3. 2. 0.]\n"
     ]
    }
   ],
   "source": [
    "singular_values=np.sqrt(eigen_values)\n",
    "print(singular_values)"
   ]
  },
  {
   "cell_type": "markdown",
   "id": "2a00d9b7",
   "metadata": {},
   "source": [
    "# CREATING DIAGRONAL MATRIX"
   ]
  },
  {
   "cell_type": "code",
   "execution_count": 32,
   "id": "2232b353",
   "metadata": {},
   "outputs": [
    {
     "name": "stdout",
     "output_type": "stream",
     "text": [
      "(3, 3)\n"
     ]
    }
   ],
   "source": [
    "S = np.zeros_like(A, dtype=float)\n",
    "print(S.shape)\n",
    "S[:A.shape[0], :A.shape[1]] = np.diag(singular_values)\n"
   ]
  },
  {
   "cell_type": "code",
   "execution_count": 35,
   "id": "c01df35f",
   "metadata": {},
   "outputs": [
    {
     "name": "stdout",
     "output_type": "stream",
     "text": [
      "[[3. 0. 0.]\n",
      " [0. 2. 0.]\n",
      " [0. 0. 0.]]\n"
     ]
    }
   ],
   "source": [
    "print(S[:A.shape[0],:A.shape[1]])"
   ]
  },
  {
   "cell_type": "code",
   "execution_count": 37,
   "id": "39027146",
   "metadata": {},
   "outputs": [
    {
     "name": "stdout",
     "output_type": "stream",
     "text": [
      "[[ 0.          0.89442719 -1.78885438]\n",
      " [ 0.          0.         -2.23606798]\n",
      " [ 0.          1.78885438  0.89442719]]\n"
     ]
    }
   ],
   "source": [
    "U=A.dot(eigen_vectors)\n",
    "print(U)"
   ]
  },
  {
   "cell_type": "markdown",
   "id": "793db590",
   "metadata": {},
   "source": [
    "# NORMALIZE U"
   ]
  },
  {
   "cell_type": "code",
   "execution_count": 42,
   "id": "8f820287",
   "metadata": {},
   "outputs": [
    {
     "name": "stdout",
     "output_type": "stream",
     "text": [
      "[[        nan  0.4472136  -0.59628479]\n",
      " [        nan  0.         -0.74535599]\n",
      " [        nan  0.89442719  0.2981424 ]]\n"
     ]
    }
   ],
   "source": [
    "U /=norm(U,axis=0)\n",
    "print(U)"
   ]
  },
  {
   "cell_type": "markdown",
   "id": "d1b2d540",
   "metadata": {},
   "source": [
    "# CALCULATE VT"
   ]
  },
  {
   "cell_type": "code",
   "execution_count": 46,
   "id": "6f255c54",
   "metadata": {},
   "outputs": [
    {
     "name": "stdout",
     "output_type": "stream",
     "text": [
      "[[ 0.          0.          1.        ]\n",
      " [ 0.4472136  -0.89442719  0.        ]\n",
      " [-0.89442719 -0.4472136  -0.        ]]\n"
     ]
    }
   ],
   "source": [
    "Vt=eigen_vectors.T\n",
    "print(Vt)"
   ]
  },
  {
   "cell_type": "code",
   "execution_count": 47,
   "id": "5764d5ad",
   "metadata": {},
   "outputs": [
    {
     "name": "stdout",
     "output_type": "stream",
     "text": [
      "Matrix U (3x3):\n",
      "[[        nan  0.4472136  -0.59628479]\n",
      " [        nan  0.         -0.74535599]\n",
      " [        nan  0.89442719  0.2981424 ]]\n",
      "\n",
      "Matrix S (3x3):\n",
      "[[3. 0. 0.]\n",
      " [0. 2. 0.]\n",
      " [0. 0. 0.]]\n",
      "\n",
      "Matrix Vt (3x3):\n",
      "[[ 0.          0.          1.        ]\n",
      " [ 0.4472136  -0.89442719  0.        ]\n",
      " [-0.89442719 -0.4472136  -0.        ]]\n"
     ]
    }
   ],
   "source": [
    "print(\"Matrix U (3x3):\")\n",
    "print(U)\n",
    "print(\"\\nMatrix S (3x3):\")\n",
    "print(S)\n",
    "print(\"\\nMatrix Vt (3x3):\")\n",
    "print(Vt)"
   ]
  }
 ],
 "metadata": {
  "kernelspec": {
   "display_name": "Python 3 (ipykernel)",
   "language": "python",
   "name": "python3"
  },
  "language_info": {
   "codemirror_mode": {
    "name": "ipython",
    "version": 3
   },
   "file_extension": ".py",
   "mimetype": "text/x-python",
   "name": "python",
   "nbconvert_exporter": "python",
   "pygments_lexer": "ipython3",
   "version": "3.11.5"
  }
 },
 "nbformat": 4,
 "nbformat_minor": 5
}
