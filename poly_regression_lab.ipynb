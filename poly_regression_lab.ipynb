{
 "cells": [
  {
   "cell_type": "code",
   "execution_count": 39,
   "id": "cdcd80a8",
   "metadata": {},
   "outputs": [],
   "source": [
    "import numpy as np\n",
    "import pandas as pd\n",
    "from sklearn.model_selection import train_test_split\n",
    "from sklearn.metrics import accuracy_score\n",
    "from sklearn.preprocessing import PolynomialFeatures\n",
    "from sklearn.linear_model import LinearRegression\n",
    "import matplotlib.pyplot as plt"
   ]
  },
  {
   "cell_type": "code",
   "execution_count": 19,
   "id": "3928f2a7",
   "metadata": {},
   "outputs": [
    {
     "name": "stdout",
     "output_type": "stream",
     "text": [
      "[[3.]\n",
      " [4.]\n",
      " [5.]\n",
      " [6.]\n",
      " [7.]]\n",
      "[ 2.5  3.2  3.8  6.5 11.5]\n"
     ]
    }
   ],
   "source": [
    "data=np.array([[3,2.5],\n",
    "             [4,3.2],\n",
    "             [5,3.8],\n",
    "             [6,6.5],\n",
    "             [7,11.5]])\n",
    "x=data[:,:-1]\n",
    "y=data[:,-1]\n",
    "print(x)\n",
    "print(y)"
   ]
  },
  {
   "cell_type": "code",
   "execution_count": 27,
   "id": "c9efc98a",
   "metadata": {},
   "outputs": [
    {
     "name": "stdout",
     "output_type": "stream",
     "text": [
      "PolynomialFeatures()\n"
     ]
    }
   ],
   "source": [
    "polyfeature = PolynomialFeatures(degree=2)\n",
    "print(polyfeature)\n",
    "x_poly=polyfeature.fit_transform(x_train)"
   ]
  },
  {
   "cell_type": "code",
   "execution_count": 28,
   "id": "b7c8e922",
   "metadata": {},
   "outputs": [
    {
     "data": {
      "text/html": [
       "<style>#sk-container-id-1 {color: black;}#sk-container-id-1 pre{padding: 0;}#sk-container-id-1 div.sk-toggleable {background-color: white;}#sk-container-id-1 label.sk-toggleable__label {cursor: pointer;display: block;width: 100%;margin-bottom: 0;padding: 0.3em;box-sizing: border-box;text-align: center;}#sk-container-id-1 label.sk-toggleable__label-arrow:before {content: \"▸\";float: left;margin-right: 0.25em;color: #696969;}#sk-container-id-1 label.sk-toggleable__label-arrow:hover:before {color: black;}#sk-container-id-1 div.sk-estimator:hover label.sk-toggleable__label-arrow:before {color: black;}#sk-container-id-1 div.sk-toggleable__content {max-height: 0;max-width: 0;overflow: hidden;text-align: left;background-color: #f0f8ff;}#sk-container-id-1 div.sk-toggleable__content pre {margin: 0.2em;color: black;border-radius: 0.25em;background-color: #f0f8ff;}#sk-container-id-1 input.sk-toggleable__control:checked~div.sk-toggleable__content {max-height: 200px;max-width: 100%;overflow: auto;}#sk-container-id-1 input.sk-toggleable__control:checked~label.sk-toggleable__label-arrow:before {content: \"▾\";}#sk-container-id-1 div.sk-estimator input.sk-toggleable__control:checked~label.sk-toggleable__label {background-color: #d4ebff;}#sk-container-id-1 div.sk-label input.sk-toggleable__control:checked~label.sk-toggleable__label {background-color: #d4ebff;}#sk-container-id-1 input.sk-hidden--visually {border: 0;clip: rect(1px 1px 1px 1px);clip: rect(1px, 1px, 1px, 1px);height: 1px;margin: -1px;overflow: hidden;padding: 0;position: absolute;width: 1px;}#sk-container-id-1 div.sk-estimator {font-family: monospace;background-color: #f0f8ff;border: 1px dotted black;border-radius: 0.25em;box-sizing: border-box;margin-bottom: 0.5em;}#sk-container-id-1 div.sk-estimator:hover {background-color: #d4ebff;}#sk-container-id-1 div.sk-parallel-item::after {content: \"\";width: 100%;border-bottom: 1px solid gray;flex-grow: 1;}#sk-container-id-1 div.sk-label:hover label.sk-toggleable__label {background-color: #d4ebff;}#sk-container-id-1 div.sk-serial::before {content: \"\";position: absolute;border-left: 1px solid gray;box-sizing: border-box;top: 0;bottom: 0;left: 50%;z-index: 0;}#sk-container-id-1 div.sk-serial {display: flex;flex-direction: column;align-items: center;background-color: white;padding-right: 0.2em;padding-left: 0.2em;position: relative;}#sk-container-id-1 div.sk-item {position: relative;z-index: 1;}#sk-container-id-1 div.sk-parallel {display: flex;align-items: stretch;justify-content: center;background-color: white;position: relative;}#sk-container-id-1 div.sk-item::before, #sk-container-id-1 div.sk-parallel-item::before {content: \"\";position: absolute;border-left: 1px solid gray;box-sizing: border-box;top: 0;bottom: 0;left: 50%;z-index: -1;}#sk-container-id-1 div.sk-parallel-item {display: flex;flex-direction: column;z-index: 1;position: relative;background-color: white;}#sk-container-id-1 div.sk-parallel-item:first-child::after {align-self: flex-end;width: 50%;}#sk-container-id-1 div.sk-parallel-item:last-child::after {align-self: flex-start;width: 50%;}#sk-container-id-1 div.sk-parallel-item:only-child::after {width: 0;}#sk-container-id-1 div.sk-dashed-wrapped {border: 1px dashed gray;margin: 0 0.4em 0.5em 0.4em;box-sizing: border-box;padding-bottom: 0.4em;background-color: white;}#sk-container-id-1 div.sk-label label {font-family: monospace;font-weight: bold;display: inline-block;line-height: 1.2em;}#sk-container-id-1 div.sk-label-container {text-align: center;}#sk-container-id-1 div.sk-container {/* jupyter's `normalize.less` sets `[hidden] { display: none; }` but bootstrap.min.css set `[hidden] { display: none !important; }` so we also need the `!important` here to be able to override the default hidden behavior on the sphinx rendered scikit-learn.org. See: https://github.com/scikit-learn/scikit-learn/issues/21755 */display: inline-block !important;position: relative;}#sk-container-id-1 div.sk-text-repr-fallback {display: none;}</style><div id=\"sk-container-id-1\" class=\"sk-top-container\"><div class=\"sk-text-repr-fallback\"><pre>LinearRegression()</pre><b>In a Jupyter environment, please rerun this cell to show the HTML representation or trust the notebook. <br />On GitHub, the HTML representation is unable to render, please try loading this page with nbviewer.org.</b></div><div class=\"sk-container\" hidden><div class=\"sk-item\"><div class=\"sk-estimator sk-toggleable\"><input class=\"sk-toggleable__control sk-hidden--visually\" id=\"sk-estimator-id-1\" type=\"checkbox\" checked><label for=\"sk-estimator-id-1\" class=\"sk-toggleable__label sk-toggleable__label-arrow\">LinearRegression</label><div class=\"sk-toggleable__content\"><pre>LinearRegression()</pre></div></div></div></div></div>"
      ],
      "text/plain": [
       "LinearRegression()"
      ]
     },
     "execution_count": 28,
     "metadata": {},
     "output_type": "execute_result"
    }
   ],
   "source": [
    "model = LinearRegression()\n",
    "model.fit(x_poly,y_train)"
   ]
  },
  {
   "cell_type": "code",
   "execution_count": 35,
   "id": "f98f4cc5",
   "metadata": {},
   "outputs": [
    {
     "name": "stdout",
     "output_type": "stream",
     "text": [
      "[[3.        ]\n",
      " [3.04040404]\n",
      " [3.08080808]\n",
      " [3.12121212]\n",
      " [3.16161616]\n",
      " [3.2020202 ]\n",
      " [3.24242424]\n",
      " [3.28282828]\n",
      " [3.32323232]\n",
      " [3.36363636]\n",
      " [3.4040404 ]\n",
      " [3.44444444]\n",
      " [3.48484848]\n",
      " [3.52525253]\n",
      " [3.56565657]\n",
      " [3.60606061]\n",
      " [3.64646465]\n",
      " [3.68686869]\n",
      " [3.72727273]\n",
      " [3.76767677]\n",
      " [3.80808081]\n",
      " [3.84848485]\n",
      " [3.88888889]\n",
      " [3.92929293]\n",
      " [3.96969697]\n",
      " [4.01010101]\n",
      " [4.05050505]\n",
      " [4.09090909]\n",
      " [4.13131313]\n",
      " [4.17171717]\n",
      " [4.21212121]\n",
      " [4.25252525]\n",
      " [4.29292929]\n",
      " [4.33333333]\n",
      " [4.37373737]\n",
      " [4.41414141]\n",
      " [4.45454545]\n",
      " [4.49494949]\n",
      " [4.53535354]\n",
      " [4.57575758]\n",
      " [4.61616162]\n",
      " [4.65656566]\n",
      " [4.6969697 ]\n",
      " [4.73737374]\n",
      " [4.77777778]\n",
      " [4.81818182]\n",
      " [4.85858586]\n",
      " [4.8989899 ]\n",
      " [4.93939394]\n",
      " [4.97979798]\n",
      " [5.02020202]\n",
      " [5.06060606]\n",
      " [5.1010101 ]\n",
      " [5.14141414]\n",
      " [5.18181818]\n",
      " [5.22222222]\n",
      " [5.26262626]\n",
      " [5.3030303 ]\n",
      " [5.34343434]\n",
      " [5.38383838]\n",
      " [5.42424242]\n",
      " [5.46464646]\n",
      " [5.50505051]\n",
      " [5.54545455]\n",
      " [5.58585859]\n",
      " [5.62626263]\n",
      " [5.66666667]\n",
      " [5.70707071]\n",
      " [5.74747475]\n",
      " [5.78787879]\n",
      " [5.82828283]\n",
      " [5.86868687]\n",
      " [5.90909091]\n",
      " [5.94949495]\n",
      " [5.98989899]\n",
      " [6.03030303]\n",
      " [6.07070707]\n",
      " [6.11111111]\n",
      " [6.15151515]\n",
      " [6.19191919]\n",
      " [6.23232323]\n",
      " [6.27272727]\n",
      " [6.31313131]\n",
      " [6.35353535]\n",
      " [6.39393939]\n",
      " [6.43434343]\n",
      " [6.47474747]\n",
      " [6.51515152]\n",
      " [6.55555556]\n",
      " [6.5959596 ]\n",
      " [6.63636364]\n",
      " [6.67676768]\n",
      " [6.71717172]\n",
      " [6.75757576]\n",
      " [6.7979798 ]\n",
      " [6.83838384]\n",
      " [6.87878788]\n",
      " [6.91919192]\n",
      " [6.95959596]\n",
      " [7.        ]]\n",
      "[[ 1.          3.          9.        ]\n",
      " [ 1.          3.04040404  9.24405673]\n",
      " [ 1.          3.08080808  9.49137843]\n",
      " [ 1.          3.12121212  9.74196511]\n",
      " [ 1.          3.16161616  9.99581675]\n",
      " [ 1.          3.2020202  10.25293337]\n",
      " [ 1.          3.24242424 10.51331497]\n",
      " [ 1.          3.28282828 10.77696153]\n",
      " [ 1.          3.32323232 11.04387307]\n",
      " [ 1.          3.36363636 11.31404959]\n",
      " [ 1.          3.4040404  11.58749107]\n",
      " [ 1.          3.44444444 11.86419753]\n",
      " [ 1.          3.48484848 12.14416896]\n",
      " [ 1.          3.52525253 12.42740537]\n",
      " [ 1.          3.56565657 12.71390674]\n",
      " [ 1.          3.60606061 13.00367309]\n",
      " [ 1.          3.64646465 13.29670442]\n",
      " [ 1.          3.68686869 13.59300071]\n",
      " [ 1.          3.72727273 13.89256198]\n",
      " [ 1.          3.76767677 14.19538823]\n",
      " [ 1.          3.80808081 14.50147944]\n",
      " [ 1.          3.84848485 14.81083563]\n",
      " [ 1.          3.88888889 15.12345679]\n",
      " [ 1.          3.92929293 15.43934292]\n",
      " [ 1.          3.96969697 15.75849403]\n",
      " [ 1.          4.01010101 16.08091011]\n",
      " [ 1.          4.05050505 16.40659116]\n",
      " [ 1.          4.09090909 16.73553719]\n",
      " [ 1.          4.13131313 17.06774819]\n",
      " [ 1.          4.17171717 17.40322416]\n",
      " [ 1.          4.21212121 17.74196511]\n",
      " [ 1.          4.25252525 18.08397102]\n",
      " [ 1.          4.29292929 18.42924191]\n",
      " [ 1.          4.33333333 18.77777778]\n",
      " [ 1.          4.37373737 19.12957861]\n",
      " [ 1.          4.41414141 19.48464442]\n",
      " [ 1.          4.45454545 19.84297521]\n",
      " [ 1.          4.49494949 20.20457096]\n",
      " [ 1.          4.53535354 20.56943169]\n",
      " [ 1.          4.57575758 20.93755739]\n",
      " [ 1.          4.61616162 21.30894807]\n",
      " [ 1.          4.65656566 21.68360371]\n",
      " [ 1.          4.6969697  22.06152433]\n",
      " [ 1.          4.73737374 22.44270993]\n",
      " [ 1.          4.77777778 22.82716049]\n",
      " [ 1.          4.81818182 23.21487603]\n",
      " [ 1.          4.85858586 23.60585655]\n",
      " [ 1.          4.8989899  24.00010203]\n",
      " [ 1.          4.93939394 24.39761249]\n",
      " [ 1.          4.97979798 24.79838792]\n",
      " [ 1.          5.02020202 25.20242832]\n",
      " [ 1.          5.06060606 25.6097337 ]\n",
      " [ 1.          5.1010101  26.02030405]\n",
      " [ 1.          5.14141414 26.43413937]\n",
      " [ 1.          5.18181818 26.85123967]\n",
      " [ 1.          5.22222222 27.27160494]\n",
      " [ 1.          5.26262626 27.69523518]\n",
      " [ 1.          5.3030303  28.12213039]\n",
      " [ 1.          5.34343434 28.55229058]\n",
      " [ 1.          5.38383838 28.98571574]\n",
      " [ 1.          5.42424242 29.42240588]\n",
      " [ 1.          5.46464646 29.86236098]\n",
      " [ 1.          5.50505051 30.30558106]\n",
      " [ 1.          5.54545455 30.75206612]\n",
      " [ 1.          5.58585859 31.20181614]\n",
      " [ 1.          5.62626263 31.65483114]\n",
      " [ 1.          5.66666667 32.11111111]\n",
      " [ 1.          5.70707071 32.57065606]\n",
      " [ 1.          5.74747475 33.03346597]\n",
      " [ 1.          5.78787879 33.49954086]\n",
      " [ 1.          5.82828283 33.96888073]\n",
      " [ 1.          5.86868687 34.44148556]\n",
      " [ 1.          5.90909091 34.91735537]\n",
      " [ 1.          5.94949495 35.39649015]\n",
      " [ 1.          5.98989899 35.87888991]\n",
      " [ 1.          6.03030303 36.36455464]\n",
      " [ 1.          6.07070707 36.85348434]\n",
      " [ 1.          6.11111111 37.34567901]\n",
      " [ 1.          6.15151515 37.84113866]\n",
      " [ 1.          6.19191919 38.33986328]\n",
      " [ 1.          6.23232323 38.84185287]\n",
      " [ 1.          6.27272727 39.34710744]\n",
      " [ 1.          6.31313131 39.85562698]\n",
      " [ 1.          6.35353535 40.36741149]\n",
      " [ 1.          6.39393939 40.88246097]\n",
      " [ 1.          6.43434343 41.40077543]\n",
      " [ 1.          6.47474747 41.92235486]\n",
      " [ 1.          6.51515152 42.44719927]\n",
      " [ 1.          6.55555556 42.97530864]\n",
      " [ 1.          6.5959596  43.50668299]\n",
      " [ 1.          6.63636364 44.04132231]\n",
      " [ 1.          6.67676768 44.57922661]\n",
      " [ 1.          6.71717172 45.12039588]\n",
      " [ 1.          6.75757576 45.66483012]\n",
      " [ 1.          6.7979798  46.21252933]\n",
      " [ 1.          6.83838384 46.76349352]\n",
      " [ 1.          6.87878788 47.31772268]\n",
      " [ 1.          6.91919192 47.87521681]\n",
      " [ 1.          6.95959596 48.43597592]\n",
      " [ 1.          7.         49.        ]]\n"
     ]
    }
   ],
   "source": [
    "x_range=np.linspace(x.min(),x.max(),100).reshape(-1,1)\n",
    "print(x_range)\n",
    "x_range_poly=polyfeature.transform(x_range)\n",
    "print(x_range_poly)"
   ]
  },
  {
   "cell_type": "code",
   "execution_count": 37,
   "id": "686ff808",
   "metadata": {},
   "outputs": [
    {
     "name": "stdout",
     "output_type": "stream",
     "text": [
      "[ 4.9         4.78801823  4.67968235  4.57499235  4.47394824  4.37655001\n",
      "  4.28279767  4.19269122  4.10623066  4.02341598  3.94424719  3.86872428\n",
      "  3.79684726  3.72861613  3.66403088  3.60309152  3.54579805  3.49215046\n",
      "  3.44214876  3.39579295  3.35308302  3.31401898  3.27860082  3.24682855\n",
      "  3.21870217  3.19422168  3.17338707  3.15619835  3.14265551  3.13275856\n",
      "  3.1265075   3.12390232  3.12494303  3.12962963  3.13796211  3.14994048\n",
      "  3.16556474  3.18483488  3.20775091  3.23431283  3.26452063  3.29837432\n",
      "  3.33587389  3.37701935  3.4218107   3.47024793  3.52233105  3.57806006\n",
      "  3.63743496  3.70045574  3.7671224   3.83743496  3.9113934   3.98899772\n",
      "  4.07024793  4.15514403  4.24368602  4.33587389  4.43170765  4.53118729\n",
      "  4.63431283  4.74108424  4.85150155  4.96556474  5.08327382  5.20462878\n",
      "  5.32962963  5.45827637  5.59056899  5.7265075   5.8660919   6.00932218\n",
      "  6.15619835  6.3067204   6.46088834  6.61870217  6.78016189  6.94526749\n",
      "  7.11401898  7.28641635  7.46245961  7.64214876  7.82548379  8.01246471\n",
      "  8.20309152  8.39736421  8.59528279  8.79684726  9.00205761  9.21091385\n",
      "  9.42341598  9.63956399  9.85935789 10.08279767 10.30988335 10.5406149\n",
      " 10.77499235 11.01301568 11.2546849  11.5       ]\n"
     ]
    }
   ],
   "source": [
    "y_pred=model.predict(x_range_poly)\n",
    "print(y_pred)"
   ]
  },
  {
   "cell_type": "code",
   "execution_count": 41,
   "id": "ff9ce18a",
   "metadata": {},
   "outputs": [
    {
     "data": {
      "image/png": "[encoded data removed]",
      "text/plain": [
       "<Figure size 640x480 with 1 Axes>"
      ]
     },
     "metadata": {},
     "output_type": "display_data"
    }
   ],
   "source": [
    "plt.scatter(x,y,color=\"green\",label=\"Datapoints\")\n",
    "plt.plot(x_range,y_pred,color=\"red\",label=\"poly reg line\")\n",
    "plt.xlabel('x values')\n",
    "plt.ylabel('y values')\n",
    "plt.title('Polynomial Regression')\n",
    "plt.legend()\n",
    "plt.show()\n",
    "     "
   ]
  }
 ],
 "metadata": {
  "kernelspec": {
   "display_name": "Python 3 (ipykernel)",
   "language": "python",
   "name": "python3"
  },
  "language_info": {
   "codemirror_mode": {
    "name": "ipython",
    "version": 3
   },
   "file_extension": ".py",
   "mimetype": "text/x-python",
   "name": "python",
   "nbconvert_exporter": "python",
   "pygments_lexer": "ipython3",
   "version": "3.11.5"
  }
 },
 "nbformat": 4,
 "nbformat_minor": 5
}
